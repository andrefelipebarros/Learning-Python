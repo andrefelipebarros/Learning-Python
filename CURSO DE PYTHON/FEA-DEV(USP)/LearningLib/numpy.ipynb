{
 "cells": [
  {
   "cell_type": "markdown",
   "metadata": {},
   "source": [
    "## Numpy Lib"
   ]
  },
  {
   "cell_type": "code",
   "execution_count": 46,
   "metadata": {},
   "outputs": [],
   "source": [
    "#Importando blibioteca numpy\n",
    "import numpy as np"
   ]
  },
  {
   "cell_type": "markdown",
   "metadata": {},
   "source": [
    "## Diference Array and List"
   ]
  },
  {
   "cell_type": "code",
   "execution_count": 47,
   "metadata": {},
   "outputs": [],
   "source": [
    "#List:\n",
    "notas = [2.0, 5.0, 9.0, 7.0] #float\n",
    "pesos = [2, 1, 2, 5, 5] #int"
   ]
  },
  {
   "cell_type": "code",
   "execution_count": 48,
   "metadata": {},
   "outputs": [],
   "source": [
    "#(notas * pesos)/sum(pesos)\n",
    "\n",
    "#ERROR, can't multiply sequence by non-int of type 'list'"
   ]
  },
  {
   "cell_type": "code",
   "execution_count": 49,
   "metadata": {},
   "outputs": [],
   "source": [
    "#List for Array:\n",
    "notas_array = np.array(notas)\n",
    "pesos_array = np.array(pesos)"
   ]
  },
  {
   "cell_type": "code",
   "execution_count": 50,
   "metadata": {},
   "outputs": [
    {
     "ename": "ValueError",
     "evalue": "operands could not be broadcast together with shapes (4,) (5,) ",
     "output_type": "error",
     "traceback": [
      "\u001b[1;31m---------------------------------------------------------------------------\u001b[0m",
      "\u001b[1;31mValueError\u001b[0m                                Traceback (most recent call last)",
      "\u001b[1;32md:\\Documentos\\ESTUDOS-PYTHON\\CURSO DE PYTHON\\FEA-DEV(USP)\\LearningLib\\numpy.ipynb Cell 7\u001b[0m line \u001b[0;36m1\n\u001b[1;32m----> <a href='vscode-notebook-cell:/d%3A/Documentos/ESTUDOS-PYTHON/CURSO%20DE%20PYTHON/FEA-DEV%28USP%29/LearningLib/numpy.ipynb#X11sZmlsZQ%3D%3D?line=0'>1</a>\u001b[0m (\u001b[39msum\u001b[39m(notas_array\u001b[39m*\u001b[39;49mpesos_array))\u001b[39m/\u001b[39m\u001b[39msum\u001b[39m(pesos_array)\n",
      "\u001b[1;31mValueError\u001b[0m: operands could not be broadcast together with shapes (4,) (5,) "
     ]
    }
   ],
   "source": [
    "(sum(notas_array*pesos_array))/sum(pesos_array)"
   ]
  }
 ],
 "metadata": {
  "kernelspec": {
   "display_name": "Python 3",
   "language": "python",
   "name": "python3"
  },
  "language_info": {
   "codemirror_mode": {
    "name": "ipython",
    "version": 3
   },
   "file_extension": ".py",
   "mimetype": "text/x-python",
   "name": "python",
   "nbconvert_exporter": "python",
   "pygments_lexer": "ipython3",
   "version": "3.11.3"
  }
 },
 "nbformat": 4,
 "nbformat_minor": 2
}
