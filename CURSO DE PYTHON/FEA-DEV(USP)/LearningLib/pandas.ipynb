{
 "cells": [
  {
   "cell_type": "markdown",
   "metadata": {},
   "source": [
    "## Pandas Lib\n",
    "\n",
    "O Pandas é uma blibioteca que permite a organização e manipulação de dados tabulares com ótimo desempenho. \n",
    "\n",
    "No Pandas, essa tabela ou planilha é chamada de Dataframe.\n",
    "\n",
    "para instalar:\n",
    "\n",
    "⚠ !pip install pandas ⚠"
   ]
  },
  {
   "cell_type": "code",
   "execution_count": 54,
   "metadata": {},
   "outputs": [],
   "source": [
    "#importando e apelidando pandas como \"pd\"\n",
    "import pandas as pd"
   ]
  },
  {
   "cell_type": "code",
   "execution_count": 55,
   "metadata": {},
   "outputs": [
    {
     "name": "stdout",
     "output_type": "stream",
     "text": [
      "      Nome  P1  P2\n",
      "0    André   7  10\n",
      "1  Juliana  10  10\n",
      "2   Thiago   8   5\n",
      "3  Pedroca   7  10\n"
     ]
    }
   ],
   "source": [
    "#Gerando um Dicionário(JSON)\n",
    "ex_dict = { \n",
    "    \"Nome\": ['André','Juliana','Thiago','Pedroca' ],\n",
    "    \"P1\": [ 7, 10, 8, 7],\n",
    "    \"P2\": [10, 10, 5, 10],\n",
    "    }\n",
    "\n",
    "#Gerando um dataframe com base no dicionário:\n",
    "\n",
    "dataframe = pd.DataFrame(ex_dict)\n",
    "\n",
    "print(dataframe)"
   ]
  },
  {
   "cell_type": "code",
   "execution_count": 56,
   "metadata": {},
   "outputs": [
    {
     "name": "stdout",
     "output_type": "stream",
     "text": [
      "      Nome  P1  P2\n",
      "0    André   7  10\n",
      "1  Juliana  10  10\n",
      "2   Thiago   8   5\n",
      "3  Pedroca   7  10\n"
     ]
    }
   ],
   "source": [
    "#Gerando uma List\n",
    "Listao = [\n",
    "    ['André', 7, 10],['Juliana', 10, 10],\n",
    "    ['Thiago', 8, 5],['Pedroca', 7, 10],\n",
    "    ]\n",
    "\n",
    "#Gerando um dataframe com base na Lista:\n",
    "\n",
    "dataframe_lista = pd.DataFrame(Listao, columns= [\"Nome\", \"P1\", \"P2\"])\n",
    "\n",
    "print(dataframe_lista)"
   ]
  },
  {
   "cell_type": "code",
   "execution_count": 57,
   "metadata": {},
   "outputs": [
    {
     "name": "stdout",
     "output_type": "stream",
     "text": [
      "0     7\n",
      "1    10\n",
      "2     8\n",
      "3     7\n",
      "dtype: int64\n"
     ]
    }
   ],
   "source": [
    "#Pegar informação de uma parte específica da tabela\n",
    "\n",
    "print(pd.Series(ex_dict[\"P1\"]))\n",
    "\n",
    "#Eu poderia armazenar em uma variável e printar mas fiz tudo\n",
    "#através do print para mostrar que é possível "
   ]
  },
  {
   "cell_type": "markdown",
   "metadata": {},
   "source": [
    "# Importar arquivo csv(excel) para o pandas ler"
   ]
  },
  {
   "cell_type": "code",
   "execution_count": 58,
   "metadata": {},
   "outputs": [
    {
     "name": "stdout",
     "output_type": "stream",
     "text": [
      "(6, 3)\n"
     ]
    }
   ],
   "source": [
    "# df = pd.read_csv() or pd.read_excel()\n",
    "# sep = sparaçãopor meio de \";\"\n",
    "df = pd.read_csv(\"../Dataframe/ex_pandas_csv.csv\", sep=\";\")\n",
    "\n",
    "# para saber a base de um dataframe, usamos o shape\n",
    "print(df.shape)\n",
    "# o shape mostrará a quantidade de colunas e linhas:"
   ]
  },
  {
   "cell_type": "code",
   "execution_count": 59,
   "metadata": {},
   "outputs": [
    {
     "name": "stdout",
     "output_type": "stream",
     "text": [
      "    Nome  Idade          Cidade\n",
      "0   João     25       São Paulo\n",
      "1  Maria     30  Rio de Janeiro\n"
     ]
    }
   ],
   "source": [
    "#Imprimi as linhas iniciais para baixo\n",
    "print(df.head(2))"
   ]
  },
  {
   "cell_type": "code",
   "execution_count": 60,
   "metadata": {},
   "outputs": [
    {
     "name": "stdout",
     "output_type": "stream",
     "text": [
      "      Nome  Idade     Cidade\n",
      "4  Ricardo     35   Salvador\n",
      "5   Isabel     29  Fortaleza\n"
     ]
    }
   ],
   "source": [
    "# do último para cima\n",
    "print(df.tail(2))"
   ]
  },
  {
   "cell_type": "code",
   "execution_count": 61,
   "metadata": {},
   "outputs": [
    {
     "name": "stdout",
     "output_type": "stream",
     "text": [
      "Index(['Nome', 'Idade', 'Cidade'], dtype='object')\n"
     ]
    }
   ],
   "source": [
    "# Nome das Colunas\n",
    "print(df.columns)"
   ]
  },
  {
   "cell_type": "code",
   "execution_count": 62,
   "metadata": {},
   "outputs": [
    {
     "name": "stdout",
     "output_type": "stream",
     "text": [
      "           Idade\n",
      "count   6.000000\n",
      "mean   28.166667\n",
      "std     4.445972\n",
      "min    22.000000\n",
      "25%    25.750000\n",
      "50%    28.500000\n",
      "75%    29.750000\n",
      "max    35.000000\n"
     ]
    }
   ],
   "source": [
    "print(df.describe())"
   ]
  },
  {
   "cell_type": "markdown",
   "metadata": {},
   "source": [
    "# Parei em 25:41 conferir o andamento (Pausa)"
   ]
  }
 ],
 "metadata": {
  "kernelspec": {
   "display_name": "Python 3",
   "language": "python",
   "name": "python3"
  },
  "language_info": {
   "codemirror_mode": {
    "name": "ipython",
    "version": 3
   },
   "file_extension": ".py",
   "mimetype": "text/x-python",
   "name": "python",
   "nbconvert_exporter": "python",
   "pygments_lexer": "ipython3",
   "version": "3.11.3"
  }
 },
 "nbformat": 4,
 "nbformat_minor": 2
}
