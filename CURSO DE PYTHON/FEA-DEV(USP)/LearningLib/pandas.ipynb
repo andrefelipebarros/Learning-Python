{
 "cells": [
  {
   "cell_type": "markdown",
   "metadata": {},
   "source": [
    "## Pandas Lib\n",
    "\n",
    "O Pandas é uma blibioteca que permite a organização e manipulação de dados tabulares com ótimo desempenho. \n",
    "\n",
    "No Pandas, essa tabela ou planilha é chamada de Dataframe.\n",
    "\n",
    "para instalar:\n",
    "\n",
    "⚠ !pip install pandas ⚠"
   ]
  },
  {
   "cell_type": "code",
   "execution_count": 2,
   "metadata": {},
   "outputs": [],
   "source": [
    "#importando e apelidando pandas como \"pd\"\n",
    "import pandas as pd\n"
   ]
  },
  {
   "cell_type": "code",
   "execution_count": 5,
   "metadata": {},
   "outputs": [
    {
     "name": "stdout",
     "output_type": "stream",
     "text": [
      "      Nome  P1  P2\n",
      "0    André   7  10\n",
      "1  Juliana  10  10\n",
      "2   Thiago   8   5\n",
      "3  Pedroca   7  10\n"
     ]
    }
   ],
   "source": [
    "#Gerando um Dicionário(JSON)\n",
    "ex_dict = { \n",
    "    \"Nome\": ['André','Juliana','Thiago','Pedroca' ],\n",
    "    \"P1\": [ 7, 10, 8, 7],\n",
    "    \"P2\": [10, 10, 5, 10],\n",
    "    }\n",
    "\n",
    "#Gerando um dataframe com base no dicionário:\n",
    "\n",
    "dataframe = pd.DataFrame(ex_dict)\n",
    "\n",
    "print(dataframe)"
   ]
  },
  {
   "cell_type": "code",
   "execution_count": 12,
   "metadata": {},
   "outputs": [
    {
     "name": "stdout",
     "output_type": "stream",
     "text": [
      "      Nome  P1  P2\n",
      "0    André   7  10\n",
      "1  Juliana  10  10\n",
      "2   Thiago   8   5\n",
      "3  Pedroca   7  10\n"
     ]
    }
   ],
   "source": [
    "#Gerando uma List\n",
    "Listao = [\n",
    "    ['André', 7, 10],['Juliana', 10, 10],\n",
    "    ['Thiago', 8, 5],['Pedroca', 7, 10],\n",
    "    ]\n",
    "\n",
    "#Gerando um dataframe com base na Lista:\n",
    "\n",
    "dataframe_lista = pd.DataFrame(Listao, columns= [\"Nome\", \"P1\", \"P2\"])\n",
    "\n",
    "print(dataframe_lista)"
   ]
  },
  {
   "cell_type": "code",
   "execution_count": 14,
   "metadata": {},
   "outputs": [
    {
     "name": "stdout",
     "output_type": "stream",
     "text": [
      "0     7\n",
      "1    10\n",
      "2     8\n",
      "3     7\n",
      "dtype: int64\n"
     ]
    }
   ],
   "source": [
    "#Pegar informação de uma parte específica da tabela\n",
    "\n",
    "print(pd.Series(ex_dict[\"P1\"]))\n",
    "\n",
    "#Eu poderia armazenar em uma variável e printar mas fiz tudo\n",
    "#através do print para mostrar que é possível "
   ]
  },
  {
   "cell_type": "markdown",
   "metadata": {},
   "source": [
    "# Importar arquivo csv(excel) para o pandas ler"
   ]
  },
  {
   "cell_type": "code",
   "execution_count": null,
   "metadata": {},
   "outputs": [],
   "source": [
    "# df = pd.read_csv() or pd.read_excel() \n",
    "# sep = sparaçãopor meio de \";\"\n",
    "df = pd.read_csv(\"ex_pandas_csv.csv\", sep=\";\")\n",
    "\n",
    "# para saber a base de um dataframe, usamos o shape\n",
    "print(df.shape)\n",
    "# o shape mostrará a quantidade de colunas e linhas:"
   ]
  }
 ],
 "metadata": {
  "kernelspec": {
   "display_name": "Python 3",
   "language": "python",
   "name": "python3"
  },
  "language_info": {
   "codemirror_mode": {
    "name": "ipython",
    "version": 3
   },
   "file_extension": ".py",
   "mimetype": "text/x-python",
   "name": "python",
   "nbconvert_exporter": "python",
   "pygments_lexer": "ipython3",
   "version": "3.11.3"
  }
 },
 "nbformat": 4,
 "nbformat_minor": 2
}
